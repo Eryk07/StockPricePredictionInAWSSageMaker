{
 "cells": [
  {
   "cell_type": "markdown",
   "id": "092fbb7b",
   "metadata": {},
   "source": [
    "# AWS SageMaker Project: Stock Price Prediction\n",
    "## Create a S3 Bucket"
   ]
  },
  {
   "cell_type": "code",
   "execution_count": 4,
   "id": "10cb0080",
   "metadata": {},
   "outputs": [],
   "source": [
    "import boto3\n",
    "region = 'eu-north-1'\n",
    "s3 = boto3.resource('s3', region_name=region)"
   ]
  },
  {
   "cell_type": "code",
   "execution_count": 6,
   "id": "75a7fe72",
   "metadata": {},
   "outputs": [
    {
     "name": "stdout",
     "output_type": "stream",
     "text": [
      "S3 bucket has been created successfully\n"
     ]
    }
   ],
   "source": [
    "bucket_name = 'yahoofinancestockpricedata'\n",
    "location = {'LocationConstraint': region}\n",
    "try:\n",
    "    s3.create_bucket(Bucket=bucket_name, CreateBucketConfiguration=location)\n",
    "    print('S3 bucket has been created successfully')\n",
    "except Exception as e:\n",
    "    print('S3 error:', e)"
   ]
  },
  {
   "cell_type": "code",
   "execution_count": null,
   "id": "694a2f7f",
   "metadata": {},
   "outputs": [],
   "source": []
  }
 ],
 "metadata": {
  "kernelspec": {
   "display_name": "conda_python3",
   "language": "python",
   "name": "conda_python3"
  },
  "language_info": {
   "codemirror_mode": {
    "name": "ipython",
    "version": 3
   },
   "file_extension": ".py",
   "mimetype": "text/x-python",
   "name": "python",
   "nbconvert_exporter": "python",
   "pygments_lexer": "ipython3",
   "version": "3.10.13"
  }
 },
 "nbformat": 4,
 "nbformat_minor": 5
}
